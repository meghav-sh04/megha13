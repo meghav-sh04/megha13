{
  "cells": [
    {
      "cell_type": "code",
      "source": [
        "import numpy as np\n",
        "import pandas as pd\n",
        "import matplotlib.pyplot as plt\n",
        "import matplotlib.cm as cm\n",
        "titanic_df=pd.read_csv('/content/Cars93 (5).csv')\n",
        "print(titanic_df)\n",
        "fig,ax=plt.subplots(figsize=(10,4))\n",
        "ax.scatter(titanic_df['Horsepower'],titanic_df['Price'])\n",
        "ax.set_xlabel('Horsepower')\n",
        "ax.set_ylabel('Price')\n",
        "plt.title('scatter plot of Price vs Horsepower')\n",
        "plt.show()\n",
        "titanic_df['Horsepower'].plot(kind='box')\n",
        "plt.show()\n",
        "q1=titanic_df['Horsepower'].quantile(0.25)\n",
        "q3=titanic_df['Horsepower'].quantile(0.75)\n",
        "iqr=q3-q1\n",
        "upper_bound=q3+(1.5*iqr)\n",
        "lower_bound=q1-(1.5*iqr)\n",
        "age_arr=titanic_df['Horsepower']\n",
        "outliers=age_arr[(age_arr<=lower_bound)|(age_arr>=upper_bound)]\n",
        "print('The following are the outliers in the boxplots of age:\\n',outliers)\n",
        "titanic_df['Price'].plot(kind='hist')\n",
        "plt.show()\n",
        "upperIndex=titanic_df[titanic_df['Horsepower']>upper_bound].index\n",
        "titanic_df.drop(upperIndex,inplace=True)\n",
        "lowerIndex=titanic_df[titanic_df['Horsepower']<lower_bound].index\n",
        "titanic_df.drop(lowerIndex,inplace=True)\n",
        "print(titanic_df.info())\n",
        "print('The following are the outliers in the boxplots of fare:\\n',outliers)\n",
        "for i in titanic_df['Price']:\n",
        "  if i<lower_bound:\n",
        "    titanic_df['Price']=titanic_df['Price'].replace(i,upper_cap)\n",
        "print(titanic_df.info())\n",
        "titanic_df=pd.read_csv('/content/Cars93 (5).csv')\n",
        "m=np.mean(titanic_df['Horsepower'])\n",
        "print('mean:',m)\n",
        "for i in titanic_df['Horsepower']:\n",
        "  if i>upper_bound:\n",
        "    titanic_df['Horsepower']=titanic_df['Horsepower'].replace(i,m)\n",
        "titanic_df=pd.read_csv('/content/Cars93 (5).csv')\n",
        "q1=titanic_df['Horsepower'].quantile(0.25)\n",
        "q3=titanic_df['Horsepower'].quantile(0.75)\n",
        "iqr=q3-q1\n",
        "upper_bound=q3+(1.5*iqr)\n",
        "lower_bound=q1-(1.5*iqr)\n",
        "m=titanic_df['Horsepower'].median()\n",
        "print(m)\n",
        "for i in titanic_df['Horsepower']:\n",
        "  if i<lower_bound:\n",
        "    titanic_df['Horsepower']=titanic_df['Horsepower'].replace(i,m)\n"
      ],
      "metadata": {
        "id": "3Q3isqwXZien"
      },
      "execution_count": null,
      "outputs": []
    }
  ],
  "metadata": {
    "colab": {
      "name": "Welcome To Colab",
      "provenance": []
    },
    "kernelspec": {
      "display_name": "Python 3",
      "name": "python3"
    }
  },
  "nbformat": 4,
  "nbformat_minor": 0
}