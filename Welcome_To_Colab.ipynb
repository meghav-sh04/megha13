{
  "cells": [
    {
      "cell_type": "markdown",
      "metadata": {
        "id": "view-in-github",
        "colab_type": "text"
      },
      "source": [
        "<a href=\"https://colab.research.google.com/github/meghav-sh04/megha13/blob/main/Welcome_To_Colab.ipynb\" target=\"_parent\"><img src=\"https://colab.research.google.com/assets/colab-badge.svg\" alt=\"Open In Colab\"/></a>"
      ]
    },
    {
      "cell_type": "code",
      "source": [
        "import pandas as pd\n",
        "arr={\n",
        "    'Day_number':[1,2,3,4,5,6,7,8,9,10],\n",
        "    'steps_walked':[4335,9552,7332,4504,5335,7552,8332,6504,8965,7689]\n",
        "}\n",
        "df=pd.DataFrame(arr)\n",
        "print(df)\n",
        "arr['steps_walked']=df['steps_walked']+1000\n",
        "print(arr['steps_walked'])\n",
        "days_more_than_7k=df[df['steps_walked']>7000]\n",
        "print(days_more_than_7k)\n"
      ],
      "metadata": {
        "id": "yKvD-GIkSc74",
        "outputId": "2c033a8a-96ae-4ce1-fb94-d4c2de515c3f",
        "colab": {
          "base_uri": "https://localhost:8080/"
        }
      },
      "execution_count": 3,
      "outputs": [
        {
          "output_type": "stream",
          "name": "stdout",
          "text": [
            "   Day_number  steps_walked\n",
            "0           1          4335\n",
            "1           2          9552\n",
            "2           3          7332\n",
            "3           4          4504\n",
            "4           5          5335\n",
            "5           6          7552\n",
            "6           7          8332\n",
            "7           8          6504\n",
            "8           9          8965\n",
            "9          10          7689\n",
            "0     5335\n",
            "1    10552\n",
            "2     8332\n",
            "3     5504\n",
            "4     6335\n",
            "5     8552\n",
            "6     9332\n",
            "7     7504\n",
            "8     9965\n",
            "9     8689\n",
            "Name: steps_walked, dtype: int64\n",
            "   Day_number  steps_walked\n",
            "1           2          9552\n",
            "2           3          7332\n",
            "5           6          7552\n",
            "6           7          8332\n",
            "8           9          8965\n",
            "9          10          7689\n"
          ]
        }
      ]
    }
  ],
  "metadata": {
    "colab": {
      "name": "Welcome To Colab",
      "toc_visible": true,
      "provenance": [],
      "include_colab_link": true
    },
    "kernelspec": {
      "display_name": "Python 3",
      "name": "python3"
    }
  },
  "nbformat": 4,
  "nbformat_minor": 0
}