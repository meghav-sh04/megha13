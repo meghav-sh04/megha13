{
  "cells": [
    {
      "cell_type": "markdown",
      "metadata": {
        "id": "view-in-github",
        "colab_type": "text"
      },
      "source": [
        "<a href=\"https://colab.research.google.com/github/meghav-sh04/megha13/blob/main/Welcome_To_Colab.ipynb\" target=\"_parent\"><img src=\"https://colab.research.google.com/assets/colab-badge.svg\" alt=\"Open In Colab\"/></a>"
      ]
    },
    {
      "cell_type": "code",
      "source": [
        "import pandas as pd\n",
        "import numpy as np\n",
        "data={\n",
        "    'first name':['Aryan','Rohan','Riya','Yash','siddini'],\n",
        "    'last name':['Singh','Agarwal','Shah','Bhatia','khanna'],\n",
        "    'type':['full-time','internship','full-time','part-time','full-time employee'],\n",
        "    'department':['Administration','Technical','Administration','Technical','Technical'],\n",
        "    'yoe':[2,3,5,7,6],\n",
        "    'salary':[20000,5000,10000,10000,20000]\n",
        "}\n",
        "df=pd.DataFrame(data)\n",
        "print(df)\n",
        "table=pd.pivot_table(df,index=['type','department'],values='salary',aggfunc='mean')\n",
        "print(table)\n",
        "pivot=pd.pivot_table(df,index='type',values='salary',aggfunc=['mean','sum'])\n",
        "print(pivot)\n",
        "pivot_count=df.pivot_table(index='type',values='salary',aggfunc='count')\n",
        "print(pivot_count)\n",
        "pivot_std=df.pivot_table(index='type',values='salary',aggfunc='std')\n",
        "print(pivot_std)"
      ],
      "metadata": {
        "id": "cOm8n-53NzAv",
        "outputId": "3900b45f-808b-44af-c614-9ccad619f9d5",
        "colab": {
          "base_uri": "https://localhost:8080/"
        }
      },
      "execution_count": 2,
      "outputs": [
        {
          "output_type": "stream",
          "name": "stdout",
          "text": [
            "  first name last name                type      department  yoe  salary\n",
            "0      Aryan     Singh           full-time  Administration    2   20000\n",
            "1      Rohan   Agarwal          internship       Technical    3    5000\n",
            "2       Riya      Shah           full-time  Administration    5   10000\n",
            "3       Yash    Bhatia           part-time       Technical    7   10000\n",
            "4    siddini    khanna  full-time employee       Technical    6   20000\n",
            "                                    salary\n",
            "type               department             \n",
            "full-time          Administration  15000.0\n",
            "full-time employee Technical       20000.0\n",
            "internship         Technical        5000.0\n",
            "part-time          Technical       10000.0\n",
            "                       mean    sum\n",
            "                     salary salary\n",
            "type                              \n",
            "full-time           15000.0  30000\n",
            "full-time employee  20000.0  20000\n",
            "internship           5000.0   5000\n",
            "part-time           10000.0  10000\n",
            "                    salary\n",
            "type                      \n",
            "full-time                2\n",
            "full-time employee       1\n",
            "internship               1\n",
            "part-time                1\n",
            "                salary\n",
            "type                  \n",
            "full-time  7071.067812\n"
          ]
        }
      ]
    }
  ],
  "metadata": {
    "colab": {
      "name": "Welcome To Colab",
      "toc_visible": true,
      "provenance": [],
      "include_colab_link": true
    },
    "kernelspec": {
      "display_name": "Python 3",
      "name": "python3"
    }
  },
  "nbformat": 4,
  "nbformat_minor": 0
}